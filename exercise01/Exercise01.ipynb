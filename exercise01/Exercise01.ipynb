{
 "cells": [
  {
   "cell_type": "markdown",
   "metadata": {},
   "source": [
    "# Exercise 01 - Let's get OOP!"
   ]
  },
  {
   "cell_type": "markdown",
   "metadata": {},
   "source": [
    "# Imports"
   ]
  },
  {
   "cell_type": "code",
   "execution_count": 15,
   "metadata": {},
   "outputs": [
    {
     "ename": "ModuleNotFoundError",
     "evalue": "No module named 'nilearn'",
     "output_type": "error",
     "traceback": [
      "\u001b[0;31m---------------------------------------------------------------------------\u001b[0m",
      "\u001b[0;31mModuleNotFoundError\u001b[0m                       Traceback (most recent call last)",
      "\u001b[0;32m<ipython-input-15-81dca1cf2290>\u001b[0m in \u001b[0;36m<module>\u001b[0;34m()\u001b[0m\n\u001b[1;32m      1\u001b[0m \u001b[0;32mimport\u001b[0m \u001b[0mnumpy\u001b[0m \u001b[0;32mas\u001b[0m \u001b[0mnp\u001b[0m\u001b[0;34m\u001b[0m\u001b[0m\n\u001b[0;32m----> 2\u001b[0;31m \u001b[0;32mimport\u001b[0m \u001b[0mnilearn\u001b[0m\u001b[0;34m\u001b[0m\u001b[0m\n\u001b[0m\u001b[1;32m      3\u001b[0m \u001b[0;32mimport\u001b[0m \u001b[0mos\u001b[0m\u001b[0;34m\u001b[0m\u001b[0m\n\u001b[1;32m      4\u001b[0m \u001b[0;32mimport\u001b[0m \u001b[0mnibabel\u001b[0m \u001b[0;32mas\u001b[0m \u001b[0mnib\u001b[0m\u001b[0;34m\u001b[0m\u001b[0m\n\u001b[1;32m      5\u001b[0m \u001b[0;32mimport\u001b[0m \u001b[0mdicom\u001b[0m\u001b[0;34m\u001b[0m\u001b[0m\n",
      "\u001b[0;31mModuleNotFoundError\u001b[0m: No module named 'nilearn'"
     ]
    }
   ],
   "source": [
    "import numpy as np\n",
    "import nilearn\n",
    "import os\n",
    "import nibabel as nib\n",
    "import dicom\n",
    "\n",
    "\n",
    "import matplotlib.pyplot as plt\n",
    "import time\n",
    "\n",
    "import re\n",
    "from skimage import measure\n",
    "from skimage.util.montage import montage2d\n",
    "from IPython import display\n",
    "%matplotlib inline  "
   ]
  },
  {
   "cell_type": "markdown",
   "metadata": {},
   "source": [
    "# Group A\n",
    "In this exercise, you will load a simulated brain MR file in MINC format, visualize it and extract some features. We want to encourage you to write code that is easy to understand and well structured, so everything will be encapsulated in classes ;)"
   ]
  },
  {
   "cell_type": "code",
   "execution_count": 2,
   "metadata": {
    "collapsed": true
   },
   "outputs": [],
   "source": [
    "# Class for working with a MINC file in the context of machine learning\n",
    "# You will complete this class in the tasks below\n",
    "class MINC:\n",
    "    \n",
    "    def __init__(self, filename):\n",
    "        # TASK 1\n",
    "        # Load the file and store the result inside an instance attribute called \"minc\"\n",
    "        \n",
    "        # Store the actual data inside an instance attribute called \"data\"\n",
    "        return None\n",
    "        \n",
    "    @property\n",
    "    def numSaggitalSlices(self):\n",
    "        # TASK 1\n",
    "        # Complete: return the number of saggital slices\n",
    "        return None\n",
    "\n",
    "    @property\n",
    "    def numCoronalSlices(self):\n",
    "        # TASK 1\n",
    "        # Complete: return the number of coronal slices\n",
    "        return None\n",
    "\n",
    "    @property\n",
    "    def numAxialSlices(self):\n",
    "        # TASK 1\n",
    "        # Complete: return the number of axial slices\n",
    "        return None\n",
    "        \n",
    "    def normalize(self):\n",
    "        # TASK 3\n",
    "        # Convert the attribute \"data\" to float()\n",
    "        \n",
    "        # Make sure the data is in the range from 0 to 1\n",
    "        return None\n",
    "        \n",
    "    def getSlice(self, the_slice, axis='axial'):\n",
    "        # TASK 2\n",
    "        # Extract a slice from the volume given an axis string and an integer denoting the slice position\n",
    "        return None\n",
    "        \n",
    "    def visualize(self, axis='axial'):\n",
    "        # TASK 2\n",
    "        # Given an axis, which will be a string \"axial\", \"coronal\" or \"saggital\", \n",
    "        # extract slices along the given axis and visualize them using a for-loop\n",
    "        return None\n",
    "        \n",
    "    def printStats(self):\n",
    "        # TASK 1\n",
    "        # Print min, max, mean, numSaggitalSlices, numCoronalSlices and numAxialSlices\n",
    "        print(\"MINC Statistics\")\n",
    "    "
   ]
  },
  {
   "cell_type": "markdown",
   "metadata": {},
   "source": [
    "# Task 1: Implement the constructor and the method printStats() of class MINC\n",
    "* The class MINC takes as argument a filename and should load a MINC file using nibabel.\n",
    "* Thus, make yourself familiar with nibabel\n",
    "* Further, implement printStats(), which should simply print some information about the volume such as min(), max(), mean() and its dimensions\n",
    "* Therefore, recall the medical terms saggital, coronal and axial\n",
    "* And implement the properties numSaggitalSlices, numCoronalSlices and numAxialSlices!"
   ]
  },
  {
   "cell_type": "code",
   "execution_count": 3,
   "metadata": {},
   "outputs": [
    {
     "name": "stdout",
     "output_type": "stream",
     "text": [
      "MINC Statistics\n"
     ]
    }
   ],
   "source": [
    "minc = MINC('data/t1_icbm_normal_1mm_pn3_rf20.mnc.gz')\n",
    "minc.printStats()"
   ]
  },
  {
   "cell_type": "markdown",
   "metadata": {},
   "source": [
    "# Task 2: Write a method to visualize the entire volume, and run it\n",
    "* implement the method visualize()\n",
    "* given an axis, which will be a string \"axial\", \"coronal\" or \"saggital\", extract slices along the given axis and visualize them using a for-loop\n",
    "* make use of the method getSlice(), which you are also asked to complete"
   ]
  },
  {
   "cell_type": "code",
   "execution_count": 4,
   "metadata": {
    "collapsed": true
   },
   "outputs": [],
   "source": [
    "minc.visualize(axis='axial')"
   ]
  },
  {
   "cell_type": "markdown",
   "metadata": {},
   "source": [
    "# Task 3: Normalization\n",
    "* Data usually should be normalized to avoid numerical instabilities\n",
    "* implement a method normalize() which normalizes the data as described in the method skeleton"
   ]
  },
  {
   "cell_type": "code",
   "execution_count": 5,
   "metadata": {},
   "outputs": [
    {
     "name": "stdout",
     "output_type": "stream",
     "text": [
      "MINC Statistics\n"
     ]
    }
   ],
   "source": [
    "minc.normalize()\n",
    "minc.printStats()"
   ]
  },
  {
   "cell_type": "markdown",
   "metadata": {},
   "source": [
    "# Task 4: Statistical Feature Extraction\n",
    "Now let us extract a slice and collect some image features\n",
    "* get and show a histogram of image intensities in the selected slice with 256 bins\n",
    "* collect statistical features such as mean, median, variance"
   ]
  },
  {
   "cell_type": "code",
   "execution_count": 6,
   "metadata": {},
   "outputs": [
    {
     "ename": "NameError",
     "evalue": "name 'plt' is not defined",
     "output_type": "error",
     "traceback": [
      "\u001b[0;31m---------------------------------------------------------------------------\u001b[0m",
      "\u001b[0;31mNameError\u001b[0m                                 Traceback (most recent call last)",
      "\u001b[0;32m<ipython-input-6-0e0f5944edbe>\u001b[0m in \u001b[0;36m<module>\u001b[0;34m()\u001b[0m\n\u001b[1;32m      1\u001b[0m \u001b[0mslice_\u001b[0m \u001b[0;34m=\u001b[0m \u001b[0mminc\u001b[0m\u001b[0;34m.\u001b[0m\u001b[0mgetSlice\u001b[0m\u001b[0;34m(\u001b[0m\u001b[0;36m80\u001b[0m\u001b[0;34m,\u001b[0m \u001b[0maxis\u001b[0m\u001b[0;34m=\u001b[0m\u001b[0;34m'axial'\u001b[0m\u001b[0;34m)\u001b[0m \u001b[0;31m# Don't call it slice, or you will overwrite a python method named slice!\u001b[0m\u001b[0;34m\u001b[0m\u001b[0m\n\u001b[0;32m----> 2\u001b[0;31m \u001b[0mplt\u001b[0m\u001b[0;34m.\u001b[0m\u001b[0mimshow\u001b[0m\u001b[0;34m(\u001b[0m\u001b[0mslice_\u001b[0m\u001b[0;34m)\u001b[0m\u001b[0;34m\u001b[0m\u001b[0m\n\u001b[0m\u001b[1;32m      3\u001b[0m \u001b[0;34m\u001b[0m\u001b[0m\n\u001b[1;32m      4\u001b[0m \u001b[0;31m# TODO: compute and show a histogram of the slice with 256 bins\u001b[0m\u001b[0;34m\u001b[0m\u001b[0;34m\u001b[0m\u001b[0m\n\u001b[1;32m      5\u001b[0m \u001b[0;34m\u001b[0m\u001b[0m\n",
      "\u001b[0;31mNameError\u001b[0m: name 'plt' is not defined"
     ]
    }
   ],
   "source": [
    "slice_ = minc.getSlice(80, axis='axial') # Don't call it slice, or you will overwrite a python method named slice!\n",
    "plt.imshow(slice_)\n",
    "\n",
    "# TODO: compute and show a histogram of the slice with 256 bins\n",
    "\n",
    "# TODO: Obtain mean, median and variance image intensity of the current slice \n",
    "# and store them in a variable called \"features_stats. Print them"
   ]
  },
  {
   "cell_type": "markdown",
   "metadata": {},
   "source": [
    "# Connected Components Feature Extraction\n",
    "Now let us threshold the image and compute the connected components\n",
    "* threshold at intensity ?\n",
    "* compute connected components on the binary image\n",
    "* obtain area and spatial moments up to 3rd order, store them into the variable features_cc"
   ]
  },
  {
   "cell_type": "code",
   "execution_count": 7,
   "metadata": {},
   "outputs": [
    {
     "ename": "SyntaxError",
     "evalue": "invalid syntax (<ipython-input-7-3bfefe7f9b44>, line 4)",
     "output_type": "error",
     "traceback": [
      "\u001b[0;36m  File \u001b[0;32m\"<ipython-input-7-3bfefe7f9b44>\"\u001b[0;36m, line \u001b[0;32m4\u001b[0m\n\u001b[0;31m    threshold = ???\u001b[0m\n\u001b[0m                ^\u001b[0m\n\u001b[0;31mSyntaxError\u001b[0m\u001b[0;31m:\u001b[0m invalid syntax\n"
     ]
    }
   ],
   "source": [
    "# TODO: threshold the previously extracted slice and obtain a binary image\n",
    "# in which you can separate the brain from background\n",
    "# Choose an appropriate threshold\n",
    "threshold = ???\n",
    "\n",
    "# TODO: Show the binary image\n",
    "\n",
    "# TODO: Compute the connected components using the \"measure\" module from \"skimage\". \n",
    "# Print the number of connected components and some of the features of the first connected component"
   ]
  },
  {
   "cell_type": "markdown",
   "metadata": {
    "collapsed": true
   },
   "source": [
    "# Group B\n",
    "In this exercise, you will load a real lung cancer CT image in DICOM format, visualize it and extract some features. We want to encourage you to write code that is easy to understand and well structured, so everything will be encapsulated in classes ;)\n",
    "\n",
    "The image is downloaded from https://wiki.cancerimagingarchive.net/display/Public/LungCT-Diagnosis"
   ]
  },
  {
   "cell_type": "code",
   "execution_count": 8,
   "metadata": {
    "collapsed": true
   },
   "outputs": [],
   "source": [
    "# Class for working with a DICOM CT file in the context of machine learning\n",
    "# You will complete this class in the tasks below\n",
    "class DICOM:\n",
    "    \n",
    "    def __init__(self, dicomfolder):\n",
    "        # Inspired by https://pyscience.wordpress.com/2014/09/08/dicom-in-python-importing-medical-image-data-into-numpy-with-pydicom-and-vtk/\n",
    "        # Load the files and store the resulting volume inside an instance attribute called \"data\"\n",
    "        self.dicom_files = []  # create an empty list\n",
    "        for dirName, subdirList, fileList in os.walk(dicomfolder):\n",
    "            for filename in fileList:\n",
    "                if \".dcm\" in filename.lower():  # check whether the file's DICOM\n",
    "                    self.dicom_files.append(os.path.join(dirName,filename))\n",
    "        \n",
    "        # Get ref file\n",
    "        # TASK 1: Complete. use pydicom to read the first dicom file from self.dicom_files \n",
    "        # and store inside self.dicom_reference\n",
    "\n",
    "        # Load dimensions based on the number of rows, columns, and slices (along the Z axis)\n",
    "        ConstPixelDims = (int(self.dicom_reference.Rows), int(self.dicom_reference.Columns), len(self.dicom_files))\n",
    "\n",
    "        # Load spacing values (in mm)\n",
    "        ConstPixelSpacing = (float(self.dicom_reference.PixelSpacing[0]), float(self.dicom_reference.PixelSpacing[1]), float(self.dicom_reference.SliceThickness))\n",
    "        \n",
    "        x = np.arange(0.0, (ConstPixelDims[0]+1)*ConstPixelSpacing[0], ConstPixelSpacing[0])\n",
    "        y = np.arange(0.0, (ConstPixelDims[1]+1)*ConstPixelSpacing[1], ConstPixelSpacing[1])\n",
    "        z = np.arange(0.0, (ConstPixelDims[2]+1)*ConstPixelSpacing[2], ConstPixelSpacing[2])\n",
    "        \n",
    "        # TASK 1: Complete. create zero-initialized numpy array with dimensionality provided in ConstPixelDims\n",
    "        # and the datatype provided n self.dicom_reference\n",
    "        # The array is sized based on 'ConstPixelDims'\n",
    "\n",
    "        # loop through all the DICOM files\n",
    "        for filenameDCM in self.dicom_files:\n",
    "            # TASK 1\n",
    "            # read the current file and store the result into a variable named \"ds\"\n",
    "            \n",
    "            # store the raw image data\n",
    "            self.data[:, :, self.dicom_files.index(filenameDCM)] = ds.pixel_array\n",
    "        \n",
    "    @property\n",
    "    def numSaggitalSlices(self):\n",
    "        # TASK 1\n",
    "        # Complete: return the number of saggital slices\n",
    "        return None\n",
    "\n",
    "    @property\n",
    "    def numCoronalSlices(self):\n",
    "        # TASK 1\n",
    "        # Complete: return the number of coronal slices\n",
    "        return None\n",
    "\n",
    "    @property\n",
    "    def numAxialSlices(self):\n",
    "        # TASK 1\n",
    "        # Complete: return the number of axial slices\n",
    "        return None\n",
    "        \n",
    "    def normalize(self):\n",
    "        # TASK 3\n",
    "        # Convert the attribute \"data\" to float()\n",
    "        \n",
    "        # Make sure the data is in the range from 0 to 1\n",
    "        return None\n",
    "        \n",
    "    def getSlice(self, the_slice, axis='axial'):\n",
    "        # TASK 2\n",
    "        # Extract a slice from the volume given an axis string and an integer denoting the slice position\n",
    "        return None\n",
    "        \n",
    "    def visualize(self, axis='axial'):\n",
    "        # TASK 2\n",
    "        # Given an axis, which will be a string \"axial\", \"coronal\" or \"saggital\", \n",
    "        # extract slices along the given axis and visualize them using a for-loop\n",
    "        return None\n",
    "        \n",
    "    def printStats(self):\n",
    "        # TASK 1\n",
    "        # Print min, max, mean, numSaggitalSlices, numCoronalSlices and numAxialSlices\n",
    "        print(\"DICOM Statistics\")\n",
    "        \n",
    "    "
   ]
  },
  {
   "cell_type": "markdown",
   "metadata": {},
   "source": [
    "# Task 1: Implement the constructor and the method printStats() of class DICOM\n",
    "* The class DICOM takes as argument a folder name and should load a set of dicom files using pydicom.\n",
    "* Thus, make yourself familiar with pydicom\n",
    "* Further, implement printStats(), which should simply print some information about the volume such as min(), max(), mean() and its dimensions\n",
    "* Therefore, recall the medical terms saggital, coronal and axial\n",
    "* And implement the properties numSaggitalSlices, numCoronalSlices and numAxialSlices!"
   ]
  },
  {
   "cell_type": "code",
   "execution_count": 9,
   "metadata": {},
   "outputs": [
    {
     "ename": "NameError",
     "evalue": "name 'os' is not defined",
     "output_type": "error",
     "traceback": [
      "\u001b[0;31m---------------------------------------------------------------------------\u001b[0m",
      "\u001b[0;31mNameError\u001b[0m                                 Traceback (most recent call last)",
      "\u001b[0;32m<ipython-input-9-821fc86342c7>\u001b[0m in \u001b[0;36m<module>\u001b[0;34m()\u001b[0m\n\u001b[0;32m----> 1\u001b[0;31m \u001b[0mdcm\u001b[0m \u001b[0;34m=\u001b[0m \u001b[0mDICOM\u001b[0m\u001b[0;34m(\u001b[0m\u001b[0;34m'data/lungcancerct.dicom'\u001b[0m\u001b[0;34m)\u001b[0m\u001b[0;34m\u001b[0m\u001b[0m\n\u001b[0m\u001b[1;32m      2\u001b[0m \u001b[0mdcm\u001b[0m\u001b[0;34m.\u001b[0m\u001b[0mprintStats\u001b[0m\u001b[0;34m(\u001b[0m\u001b[0;34m)\u001b[0m\u001b[0;34m\u001b[0m\u001b[0m\n",
      "\u001b[0;32m<ipython-input-8-4b6796b2cdc0>\u001b[0m in \u001b[0;36m__init__\u001b[0;34m(self, dicomfolder)\u001b[0m\n\u001b[1;32m      7\u001b[0m         \u001b[0;31m# Load the files and store the resulting volume inside an instance attribute called \"data\"\u001b[0m\u001b[0;34m\u001b[0m\u001b[0;34m\u001b[0m\u001b[0m\n\u001b[1;32m      8\u001b[0m         \u001b[0mself\u001b[0m\u001b[0;34m.\u001b[0m\u001b[0mdicom_files\u001b[0m \u001b[0;34m=\u001b[0m \u001b[0;34m[\u001b[0m\u001b[0;34m]\u001b[0m  \u001b[0;31m# create an empty list\u001b[0m\u001b[0;34m\u001b[0m\u001b[0m\n\u001b[0;32m----> 9\u001b[0;31m         \u001b[0;32mfor\u001b[0m \u001b[0mdirName\u001b[0m\u001b[0;34m,\u001b[0m \u001b[0msubdirList\u001b[0m\u001b[0;34m,\u001b[0m \u001b[0mfileList\u001b[0m \u001b[0;32min\u001b[0m \u001b[0mos\u001b[0m\u001b[0;34m.\u001b[0m\u001b[0mwalk\u001b[0m\u001b[0;34m(\u001b[0m\u001b[0mdicomfolder\u001b[0m\u001b[0;34m)\u001b[0m\u001b[0;34m:\u001b[0m\u001b[0;34m\u001b[0m\u001b[0m\n\u001b[0m\u001b[1;32m     10\u001b[0m             \u001b[0;32mfor\u001b[0m \u001b[0mfilename\u001b[0m \u001b[0;32min\u001b[0m \u001b[0mfileList\u001b[0m\u001b[0;34m:\u001b[0m\u001b[0;34m\u001b[0m\u001b[0m\n\u001b[1;32m     11\u001b[0m                 \u001b[0;32mif\u001b[0m \u001b[0;34m\".dcm\"\u001b[0m \u001b[0;32min\u001b[0m \u001b[0mfilename\u001b[0m\u001b[0;34m.\u001b[0m\u001b[0mlower\u001b[0m\u001b[0;34m(\u001b[0m\u001b[0;34m)\u001b[0m\u001b[0;34m:\u001b[0m  \u001b[0;31m# check whether the file's DICOM\u001b[0m\u001b[0;34m\u001b[0m\u001b[0m\n",
      "\u001b[0;31mNameError\u001b[0m: name 'os' is not defined"
     ]
    }
   ],
   "source": [
    "dcm = DICOM('data/lungcancerct.dicom')\n",
    "dcm.printStats()"
   ]
  },
  {
   "cell_type": "markdown",
   "metadata": {},
   "source": [
    "# Task 2: Write a method to visualize the entire volume, and run it\n",
    "* implement the method visualize()\n",
    "* given an axis, which will be a string \"axial\", \"coronal\" or \"saggital\", extract slices along the given axis and visualize them using a for-loop\n",
    "* make use of the method getSlice(), which you are also asked to complete"
   ]
  },
  {
   "cell_type": "code",
   "execution_count": 10,
   "metadata": {},
   "outputs": [
    {
     "ename": "NameError",
     "evalue": "name 'dcm' is not defined",
     "output_type": "error",
     "traceback": [
      "\u001b[0;31m---------------------------------------------------------------------------\u001b[0m",
      "\u001b[0;31mNameError\u001b[0m                                 Traceback (most recent call last)",
      "\u001b[0;32m<ipython-input-10-c69a13d102f1>\u001b[0m in \u001b[0;36m<module>\u001b[0;34m()\u001b[0m\n\u001b[0;32m----> 1\u001b[0;31m \u001b[0mdcm\u001b[0m\u001b[0;34m.\u001b[0m\u001b[0mvisualize\u001b[0m\u001b[0;34m(\u001b[0m\u001b[0maxis\u001b[0m\u001b[0;34m=\u001b[0m\u001b[0;34m'axial'\u001b[0m\u001b[0;34m)\u001b[0m\u001b[0;34m\u001b[0m\u001b[0m\n\u001b[0m",
      "\u001b[0;31mNameError\u001b[0m: name 'dcm' is not defined"
     ]
    }
   ],
   "source": [
    "dcm.visualize(axis='axial')"
   ]
  },
  {
   "cell_type": "markdown",
   "metadata": {},
   "source": [
    "# Task 3: Normalization\n",
    "* Data usually should be normalized to avoid numerical instabilities\n",
    "* implement a method normalize() which normalizes the data as described in the method skeleton"
   ]
  },
  {
   "cell_type": "code",
   "execution_count": 11,
   "metadata": {},
   "outputs": [
    {
     "ename": "NameError",
     "evalue": "name 'dcm' is not defined",
     "output_type": "error",
     "traceback": [
      "\u001b[0;31m---------------------------------------------------------------------------\u001b[0m",
      "\u001b[0;31mNameError\u001b[0m                                 Traceback (most recent call last)",
      "\u001b[0;32m<ipython-input-11-731e2f8bbcd8>\u001b[0m in \u001b[0;36m<module>\u001b[0;34m()\u001b[0m\n\u001b[0;32m----> 1\u001b[0;31m \u001b[0mdcm\u001b[0m\u001b[0;34m.\u001b[0m\u001b[0mnormalize\u001b[0m\u001b[0;34m(\u001b[0m\u001b[0;34m)\u001b[0m\u001b[0;34m\u001b[0m\u001b[0m\n\u001b[0m\u001b[1;32m      2\u001b[0m \u001b[0mdcm\u001b[0m\u001b[0;34m.\u001b[0m\u001b[0mprintStats\u001b[0m\u001b[0;34m(\u001b[0m\u001b[0;34m)\u001b[0m\u001b[0;34m\u001b[0m\u001b[0m\n",
      "\u001b[0;31mNameError\u001b[0m: name 'dcm' is not defined"
     ]
    }
   ],
   "source": [
    "dcm.normalize()\n",
    "dcm.printStats()"
   ]
  },
  {
   "cell_type": "markdown",
   "metadata": {},
   "source": [
    "# Task 4: Statistical Feature Extraction\n",
    "Now let us extract a slice and collect some image features\n",
    "* get and show a histogram of image intensities in the selected slice with 256 bins\n",
    "* collect statistical features such as mean, median, variance"
   ]
  },
  {
   "cell_type": "code",
   "execution_count": 12,
   "metadata": {},
   "outputs": [
    {
     "ename": "NameError",
     "evalue": "name 'dcm' is not defined",
     "output_type": "error",
     "traceback": [
      "\u001b[0;31m---------------------------------------------------------------------------\u001b[0m",
      "\u001b[0;31mNameError\u001b[0m                                 Traceback (most recent call last)",
      "\u001b[0;32m<ipython-input-12-cbe148f7bc7c>\u001b[0m in \u001b[0;36m<module>\u001b[0;34m()\u001b[0m\n\u001b[0;32m----> 1\u001b[0;31m \u001b[0mslice_\u001b[0m \u001b[0;34m=\u001b[0m \u001b[0mdcm\u001b[0m\u001b[0;34m.\u001b[0m\u001b[0mgetSlice\u001b[0m\u001b[0;34m(\u001b[0m\u001b[0;36m32\u001b[0m\u001b[0;34m,\u001b[0m \u001b[0maxis\u001b[0m\u001b[0;34m=\u001b[0m\u001b[0;34m'axial'\u001b[0m\u001b[0;34m)\u001b[0m \u001b[0;31m# Don't call it slice, or you will overwrite a python method named slice!\u001b[0m\u001b[0;34m\u001b[0m\u001b[0m\n\u001b[0m\u001b[1;32m      2\u001b[0m \u001b[0mplt\u001b[0m\u001b[0;34m.\u001b[0m\u001b[0mimshow\u001b[0m\u001b[0;34m(\u001b[0m\u001b[0mslice_\u001b[0m\u001b[0;34m)\u001b[0m\u001b[0;34m\u001b[0m\u001b[0m\n\u001b[1;32m      3\u001b[0m \u001b[0;34m\u001b[0m\u001b[0m\n\u001b[1;32m      4\u001b[0m \u001b[0;31m# TODO: compute and show a histogram of the slice with 256 bins\u001b[0m\u001b[0;34m\u001b[0m\u001b[0;34m\u001b[0m\u001b[0m\n\u001b[1;32m      5\u001b[0m \u001b[0;34m\u001b[0m\u001b[0m\n",
      "\u001b[0;31mNameError\u001b[0m: name 'dcm' is not defined"
     ]
    }
   ],
   "source": [
    "slice_ = dcm.getSlice(32, axis='axial') # Don't call it slice, or you will overwrite a python method named slice!\n",
    "plt.imshow(slice_)\n",
    "\n",
    "# TODO: compute and show a histogram of the slice with 256 bins\n",
    "\n",
    "# TODO: Obtain mean, median and variance image intensity of the current slice \n",
    "# and store them in a variable called \"features_stats. Print them\n"
   ]
  },
  {
   "cell_type": "markdown",
   "metadata": {},
   "source": [
    "# Connected Components Feature Extraction\n",
    "Now let us threshold the image and compute the connected components\n",
    "* threshold at intensity ?\n",
    "* compute connected components on the binary image\n",
    "* obtain area and spatial moments up to 3rd order, store them into the variable features_cc"
   ]
  },
  {
   "cell_type": "code",
   "execution_count": 13,
   "metadata": {},
   "outputs": [
    {
     "ename": "SyntaxError",
     "evalue": "invalid syntax (<ipython-input-13-3bfefe7f9b44>, line 4)",
     "output_type": "error",
     "traceback": [
      "\u001b[0;36m  File \u001b[0;32m\"<ipython-input-13-3bfefe7f9b44>\"\u001b[0;36m, line \u001b[0;32m4\u001b[0m\n\u001b[0;31m    threshold = ???\u001b[0m\n\u001b[0m                ^\u001b[0m\n\u001b[0;31mSyntaxError\u001b[0m\u001b[0;31m:\u001b[0m invalid syntax\n"
     ]
    }
   ],
   "source": [
    "# TODO: threshold the previously extracted slice and obtain a binary image\n",
    "# in which you can separate the brain from background\n",
    "# Choose an appropriate threshold\n",
    "threshold = ???\n",
    "\n",
    "# TODO: Show the binary image\n",
    "\n",
    "# TODO: Compute the connected components using the \"measure\" module from \"skimage\". \n",
    "# Print the number of connected components and some of the features of the first connected component\n"
   ]
  },
  {
   "cell_type": "markdown",
   "metadata": {
    "collapsed": true
   },
   "source": [
    "# Group C\n",
    "In this exercise, you will load a brain MR image in Nifti format, visualize it and extract some features. We want to encourage you to write code that is easy to understand and well structured, so everything will be encapsulated in classes ;)\n",
    "\n",
    "The image is downloaded from https://nifti.nimh.nih.gov/nifti-1/data"
   ]
  },
  {
   "cell_type": "code",
   "execution_count": 14,
   "metadata": {},
   "outputs": [
    {
     "name": "stderr",
     "output_type": "stream",
     "text": [
      "/home/oushesh/anaconda3/lib/python3.6/site-packages/matplotlib/font_manager.py:279: UserWarning: Matplotlib is building the font cache using fc-list. This may take a moment.\n",
      "  'Matplotlib is building the font cache using fc-list. '\n"
     ]
    },
    {
     "ename": "ModuleNotFoundError",
     "evalue": "No module named 'nilearn'",
     "output_type": "error",
     "traceback": [
      "\u001b[0;31m---------------------------------------------------------------------------\u001b[0m",
      "\u001b[0;31mModuleNotFoundError\u001b[0m                       Traceback (most recent call last)",
      "\u001b[0;32m<ipython-input-14-526546f44227>\u001b[0m in \u001b[0;36m<module>\u001b[0;34m()\u001b[0m\n\u001b[1;32m      3\u001b[0m \u001b[0;32mimport\u001b[0m \u001b[0mnumpy\u001b[0m \u001b[0;32mas\u001b[0m \u001b[0mnp\u001b[0m\u001b[0;34m\u001b[0m\u001b[0m\n\u001b[1;32m      4\u001b[0m \u001b[0;32mimport\u001b[0m \u001b[0mmatplotlib\u001b[0m\u001b[0;34m.\u001b[0m\u001b[0mpyplot\u001b[0m \u001b[0;32mas\u001b[0m \u001b[0mplt\u001b[0m\u001b[0;34m\u001b[0m\u001b[0m\n\u001b[0;32m----> 5\u001b[0;31m \u001b[0;32mfrom\u001b[0m \u001b[0mnilearn\u001b[0m \u001b[0;32mimport\u001b[0m \u001b[0mplotting\u001b[0m\u001b[0;34m\u001b[0m\u001b[0m\n\u001b[0m\u001b[1;32m      6\u001b[0m \u001b[0;34m\u001b[0m\u001b[0m\n\u001b[1;32m      7\u001b[0m \u001b[0;32mclass\u001b[0m \u001b[0mNII\u001b[0m\u001b[0;34m:\u001b[0m\u001b[0;34m\u001b[0m\u001b[0m\n",
      "\u001b[0;31mModuleNotFoundError\u001b[0m: No module named 'nilearn'"
     ]
    }
   ],
   "source": [
    "# Class for working with a NII (Nifti) file in the context of machine learning\n",
    "# You will complete this class in the tasks below\n",
    "import numpy as np\n",
    "import matplotlib.pyplot as plt\n",
    "from nilearn import plotting\n",
    "\n",
    "class NII:\n",
    "    def __init__(self, filename):\n",
    "        # TASK 1\n",
    "        # Load the file and store the result inside an instance attribute called \"nii\"\n",
    "        self.filename= nib.load(filename)\n",
    "        # save it as instance with the name \"data\"\n",
    "        data=self.filename.get_data()\n",
    "        return None\n",
    "     \n",
    "    def data(self):\n",
    "        return self.filename.get_data()\n",
    "    @property\n",
    "    def numSaggitalSlices(self):\n",
    "        # TASK 1\n",
    "        # Saggital Plane: Y-Z Plane\n",
    "        data = self.filename.get_data() #stores the image as pixel intensity matrix\n",
    "        print(\"Number of SaggitalSlices is:\", data.shape[0])\n",
    "        return data.shape[0]\n",
    "\n",
    "    @property\n",
    "    def numCoronalSlices(self): \n",
    "        # TASK 1\n",
    "        # Coronal Plane X-Y plane\n",
    "        data = self.filename.get_data() #stores the image as pixel intensity matrix\n",
    "        print(\"Number of SaggitalSlices is:\", data.shape[2])\n",
    "        return data.shape[2]\n",
    "\n",
    "    @property\n",
    "    def numAxialSlices(self):\n",
    "        # TASK 1\n",
    "        # axial Plane X-Z Plane\n",
    "        # Complete: return the number of axial slices\n",
    "        data = self.filename.get_data() #stores the image as pixel intensity matrix\n",
    "        print(\"Number of SaggitalSlices is:\", data.shape[1])\n",
    "        return data.shape[1]\n",
    "        \n",
    "    def normalize(self):\n",
    "        # TASK 3\n",
    "        # Convert the attribute \"data\" to float()\n",
    "        x = np.array(self.filename.get_data(), dtype=float)\n",
    "        \n",
    "        # Make sure the data is in the range from 0 to 1\n",
    "        print('maximum is', np.amax(x)) #get macimum of array\n",
    "        normalized = x/np.amax(x)\n",
    "        print (normalized)\n",
    "        return None\n",
    "          \n",
    "    def getSlice(self, the_slice, axis='axial'):\n",
    "        # TASK 2\n",
    "        # Extract a slice from the volume given an axis string and an integer denoting the slice position\n",
    "        x = np.array(self.filename.get_data(), dtype=float)\n",
    "        if (axis=='axial'):\n",
    "            print(x.shape)\n",
    "            return x[:,:,2]\n",
    "            \n",
    "        elif (axis=='coronal'):\n",
    "            return x[:,:,1]\n",
    "        \n",
    "        elif (axis=='saggital'):\n",
    "            return x[:,:,0]\n",
    "        #return None\n",
    "        \n",
    "    def visualize(self, axis='axial'):\n",
    "        # TASK 2\n",
    "        # Given an axis, which will be a string \"axial\", \"coronal\" or \"saggital\", \n",
    "        # extract slices along the given axis and visualize them using a for-loop\n",
    "        data = self.filename.get_data() #stores the image as pixel intensity matrix\n",
    "        if (axis=='axial'):\n",
    "            for x in range(1, 91):\n",
    "                    plotting.plot_stat_map(self.filename, display_mode='z', cut_coords=x,title=\"display_mode='50', cut_coords=1\")\n",
    "                    \n",
    "        elif (axis=='coronal'):\n",
    "            #or y in range(1,109):\n",
    "                 plotting.plot_stat_map(self.filename, display_mode='y', cut_coords=10,title=\"display_mode='y', cut_coords=1\")\n",
    "        \n",
    "        elif (axis=='saggital'):\n",
    "            #or z in rrange (1,91):\n",
    "             plotting.plot_stat_map(self.filename, display_mode='x', cut_coords=5,title=\"display_mode='y', cut_coords=5\")\n",
    "        plt.show()\n",
    "        return None\n",
    "        \n",
    "    def printStats(self,filename):\n",
    "        # TASK 1 Self is actually the Image input!!!!\n",
    "        # Print min, max, mean, numSaggitalSlices, numCoronalSlices and numAxialSlices\n",
    "        statistics = []    #creates a new empty list for NII Statistics\n",
    "        statistics.append(self.filename.header['cal_min'])\n",
    "        statistics.append(self.filename.header['cal_max'])    \n",
    "        data = self.filename.get_data() #stores the image as pixel intensity matrix\n",
    "        print ('Array Dimension is',data.shape, '\\n')\n",
    "        # Mean of the elements in the 3D Array\n",
    "        mean = np.ma.average(data)\n",
    "        print(mean)\n",
    "        return print(\"NII Statistiscs are as follows: (min,max,mean)=\", statistics[0], statistics[1])\n",
    "        \n",
    "    "
   ]
  },
  {
   "cell_type": "markdown",
   "metadata": {},
   "source": [
    "# Task 1: Implement the constructor and the method printStats() of class NII\n",
    "* The class NII takes as argument a filename and should load a NII file using nibabel.\n",
    "* Thus, make yourself familiar with nibabel\n",
    "* Further, implement printStats(), which should simply print some information about the volume such as min(), max(), mean() and its dimensions\n",
    "* Therefore, recall the medical terms saggital, coronal and axial\n",
    "* And implement the properties numSaggitalSlices, numCoronalSlices and numAxialSlices!"
   ]
  },
  {
   "cell_type": "code",
   "execution_count": null,
   "metadata": {},
   "outputs": [],
   "source": [
    "nii = NII('data/avg152T1_LR_nifti.nii')\n",
    "nii.printStats(nii)"
   ]
  },
  {
   "cell_type": "markdown",
   "metadata": {},
   "source": [
    "# Task 2: Write a method to visualize the entire volume, and run it\n",
    "* implement the method visualize()\n",
    "* given an axis, which will be a string \"axial\", \"coronal\" or \"saggital\", extract slices along the given axis and visualize them using a for-loop\n",
    "* make use of the method getSlice(), which you are also asked to complete"
   ]
  },
  {
   "cell_type": "code",
   "execution_count": null,
   "metadata": {},
   "outputs": [],
   "source": [
    "nii.visualize(axis='coronal')"
   ]
  },
  {
   "cell_type": "markdown",
   "metadata": {},
   "source": [
    "# Task 3: Normalization\n",
    "* Data usually should be normalized to avoid numerical instabilities\n",
    "* implement a method normalize() which normalizes the data as described in the method skeleton"
   ]
  },
  {
   "cell_type": "code",
   "execution_count": null,
   "metadata": {},
   "outputs": [],
   "source": [
    "nii.normalize()\n",
    "nii.printStats(nii)"
   ]
  },
  {
   "cell_type": "markdown",
   "metadata": {},
   "source": [
    "# Task 4: Statistical Feature Extraction\n",
    "Now let us extract a slice and collect some image features\n",
    "* get and show a histogram of image intensities in the selected slice with 256 bins\n",
    "* collect statistical features such as mean, median, variance"
   ]
  },
  {
   "cell_type": "code",
   "execution_count": 18,
   "metadata": {},
   "outputs": [
    {
     "name": "stdout",
     "output_type": "stream",
     "text": [
      "(91, 109)\n"
     ]
    },
    {
     "data": {
      "image/png": "[encoded data removed]",
      "text/plain": [
       "<matplotlib.figure.Figure at 0x7f65ca232e80>"
      ]
     },
     "metadata": {},
     "output_type": "display_data"
    },
    {
     "name": "stdout",
     "output_type": "stream",
     "text": [
      "89.6732533522\n",
      "[89.673253352152429, 83.0, 5293.2073811991468]\n"
     ]
    }
   ],
   "source": [
    "slice_ = nii.getSlice(50, axis='coronal') # Don't call it slice, or you will overwrite a python method named slice!\n",
    "#plt.imshow(slice_)\n",
    "print(slice_.shape)\n",
    "\n",
    "# TODO: compute and show a histogram of the slice with 256 bins\n",
    "# reshape the 3D Array to 2D\n",
    "#np.histogram((slice_, bins=[0,256] dtype='float')\n",
    "nbins=32 \n",
    "bins_range=(0, 256)\n",
    "np.histogram(slice_, bins=nbins, range=bins_range)\n",
    "plt.hist(slice_, bins=256)  # arguments are passed to np.histogram\n",
    "plt.title(\"Histogram\")\n",
    "plt.show()\n",
    "# TODO: Obtain mean, median and variance image intensity of the current slice\n",
    "# and store them in a variable called \"features_stats. Print them\n",
    "mean = np.ma.average(slice_)\n",
    "print(mean)\n",
    "features_stats=[]\n",
    "features_stats.append(mean)\n",
    "features_stats.append(np.median(slice_))\n",
    "features_stats.append(np.var(slice_))\n",
    "print (features_stats)       "
   ]
  },
  {
   "cell_type": "markdown",
   "metadata": {},
   "source": [
    "# Connected Components Feature Extraction\n",
    "Now let us threshold the image and compute the connected components\n",
    "* threshold at intensity ?\n",
    "* compute connected components on the binary image\n",
    "* obtain area and spatial moments up to 3rd order, store them into the variable features_cc"
   ]
  },
  {
   "cell_type": "code",
   "execution_count": 34,
   "metadata": {},
   "outputs": [
    {
     "data": {
      "image/png": "[encoded data removed]",
      "text/plain": [
       "<matplotlib.figure.Figure at 0x7f65c3527b00>"
      ]
     },
     "metadata": {},
     "output_type": "display_data"
    },
    {
     "name": "stdout",
     "output_type": "stream",
     "text": [
      "(array([[   1,    1,    2, ...,   49,   49,   49],\n",
      "       [  50,   50,   50, ...,   95,   94,   96],\n",
      "       [  50,   50,   54, ...,   94,   94,   94],\n",
      "       ..., \n",
      "       [5455, 5455, 5455, ..., 5501, 5501, 5501],\n",
      "       [5539, 5539, 5540, ..., 5584, 5584, 5584],\n",
      "       [5585, 5585, 5539, ..., 5627, 5627, 5627]]), 5627)\n"
     ]
    }
   ],
   "source": [
    "from skimage import measure\n",
    "# TODO: threshold the previously extracted slice and obtain a binary image\n",
    "# in which you can separate the brain from background\n",
    "# Choose an appropriate threshold\n",
    "def color_thresh(img, threshold=(160)):\n",
    "    # Create an array of zeros same xy size as img, but single channel\n",
    "    color_select = np.zeros_like(img[:,:])\n",
    "    # Require that each pixel be above all thre threshold values in RGB\n",
    "    # above_thresh will now contain a boolean array with \"True\"\n",
    "    # where threshold was met\n",
    "    above_thresh = (img[:,:] > threshold)\n",
    "                #& (img[:,:] > threshold[1]) \\\n",
    "              \n",
    "    # Index the array of zeros with the boolean array and set to 1\n",
    "    color_select[above_thresh] = 1\n",
    "    # Return the binary image\n",
    "    return color_select\n",
    "\n",
    "slice_ = nii.getSlice(50, axis='coronal')\n",
    "colorsel = color_thresh(slice_, threshold=(50))\n",
    "plt.imshow(colorsel)\n",
    "plt.show()\n",
    "print(measure.label(slice_, connectivity=2,return_num=True))\n",
    "# TODO: Show the binary image\n",
    "# TODO: Compute the connected components using the \"measure\" module from \"skimage\". \n",
    "# Print the number of connected components and some of the features of the first connected component"
   ]
  },
  {
   "cell_type": "markdown",
   "metadata": {
    "collapsed": true
   },
   "source": [
    "# Group D\n",
    "In this exercise, you will load a mammography image in PGM format, visualize it and extract some patches. We want to encourage you to write code that is easy to understand and well structured, so everything will be encapsulated in classes ;)\n",
    "\n",
    "The image is donwloaded from http://peipa.essex.ac.uk/info/mias.html"
   ]
  },
  {
   "cell_type": "code",
   "execution_count": null,
   "metadata": {
    "collapsed": true
   },
   "outputs": [],
   "source": [
    "# Class for working with a MINC file in the context of machine learning\n",
    "# You will complete this class in the tasks below\n",
    "\n",
    "def read_pgm(filename, byteorder='>'):\n",
    "    \"\"\"Return image data from a raw PGM file as numpy array.\n",
    "\n",
    "    Format specification: http://netpbm.sourceforge.net/doc/pgm.html\n",
    "\n",
    "    \"\"\"\n",
    "    with open(filename, 'rb') as f:\n",
    "        buffer = f.read()\n",
    "    try:\n",
    "        header, width, height, maxval = re.search(\n",
    "            b\"(^P5\\s(?:\\s*#.*[\\r\\n])*\"\n",
    "            b\"(\\d+)\\s(?:\\s*#.*[\\r\\n])*\"\n",
    "            b\"(\\d+)\\s(?:\\s*#.*[\\r\\n])*\"\n",
    "            b\"(\\d+)\\s(?:\\s*#.*[\\r\\n]\\s)*)\", buffer).groups()\n",
    "    except AttributeError:\n",
    "        raise ValueError(\"Not a raw PGM file: '%s'\" % filename)\n",
    "    return np.frombuffer(buffer,\n",
    "                            dtype='u1' if int(maxval) < 256 else byteorder+'u2',\n",
    "                            count=int(width)*int(height),\n",
    "                            offset=len(header)\n",
    "                            ).reshape((int(height), int(width)))\n",
    "\n",
    "class PGM:\n",
    "    \n",
    "    def __init__(self, filename):\n",
    "        # TASK 1\n",
    "        # Load the file and store the result inside an instance attribute called \"data\" using read_pgm\n",
    "        return None\n",
    "        \n",
    "    @property\n",
    "    def width(self):\n",
    "        # TASK 1\n",
    "        # Complete: return the width of the PGM\n",
    "        return None\n",
    "\n",
    "    @property\n",
    "    def height(self):\n",
    "        # TASK 1\n",
    "        # Complete: return the height of the PGM\n",
    "        return None\n",
    "\n",
    "    @property\n",
    "    def channels(self):\n",
    "        # TASK 1\n",
    "        # Complete: return the number of channels of the PGM\n",
    "        # Note: The PGM can, but need not have more than 1 channel.\n",
    "        return None\n",
    "        \n",
    "    def normalize(self):\n",
    "        # TASK 3\n",
    "        # Convert the attribute \"data\" to float()\n",
    "        \n",
    "        # Make sure the data is in the range from 0 to 1\n",
    "        return None\n",
    "        \n",
    "    def getData(self):\n",
    "        # TASK 4\n",
    "        # Return the image data\n",
    "        return None\n",
    "        \n",
    "    def getPatch(self, y, x, height, width):\n",
    "        # TASK 2\n",
    "        # Extract a patch from the image given x,y and width, height\n",
    "        return None\n",
    "    \n",
    "    def getRandomPatch(self, height, width):\n",
    "        # TASK 2\n",
    "        # Extract a patch around a randomly computed y,x coordinate\n",
    "        return None\n",
    "        \n",
    "    def visualize(self):\n",
    "        # TASK 2\n",
    "        # Simply visualize the loaded image using matplotlib\n",
    "        \n",
    "    def printStats(self):\n",
    "        # TASK 1\n",
    "        # Print min, max, mean, width, height, channels\n",
    "    "
   ]
  },
  {
   "cell_type": "markdown",
   "metadata": {},
   "source": [
    "# Task 1: Implement the constructor and the method printStats() of class PGM\n",
    "* The class PGM takes as argument a filename and should load a mammography image file in PGM format.\n",
    "* Use the method read_pgm which is provided for you\n",
    "* Further, implement printStats(), which should simply print some information about the image such as min(), max(), mean() and its dimensions\n",
    "* Therefore, implement the properties width, height and channels!"
   ]
  },
  {
   "cell_type": "code",
   "execution_count": null,
   "metadata": {
    "collapsed": true
   },
   "outputs": [],
   "source": [
    "mg = PGM('data/mdb008.pgm')\n",
    "mg.printStats()"
   ]
  },
  {
   "cell_type": "markdown",
   "metadata": {},
   "source": [
    "# Task 2: Write a method to visualize the image, and run it\n",
    "* implement the method visualize() using matplotlib"
   ]
  },
  {
   "cell_type": "code",
   "execution_count": null,
   "metadata": {
    "collapsed": true
   },
   "outputs": [],
   "source": [
    "mg.visualize()"
   ]
  },
  {
   "cell_type": "markdown",
   "metadata": {},
   "source": [
    "# Task 3: Normalization and Patch Extraction\n",
    "* Data usually should be normalized to avoid numerical instabilities\n",
    "* implement a method normalize() which normalizes the data as described in the method skeleton\n",
    "* afterwards, implement the methods getPatch(y, x, height, width) and getRandomPatch(height, width) for cropping patches from the image\n",
    "* use these methods to extract 16 random patches of size 64x64px in the code cell below\n",
    "* then visualize these patches using montage2d"
   ]
  },
  {
   "cell_type": "code",
   "execution_count": null,
   "metadata": {
    "collapsed": true
   },
   "outputs": [],
   "source": [
    "mg.normalize()\n",
    "mg.printStats()\n",
    "\n",
    "# Extract 16 random patches and store them in an numpy array\n",
    "    \n",
    "# Visualize them using montage2d\n"
   ]
  },
  {
   "cell_type": "markdown",
   "metadata": {},
   "source": [
    "# Task 4: Statistical Feature Extraction\n",
    "Now let us use the entire image and extract some image features\n",
    "* get and show a histogram of image intensities in the image with 256 bins\n",
    "* therefore, write a method getData() in class PGM for obtaining the data, use it and store the result in a variable named \"image_\"\n",
    "* collect statistical features such as mean, median, variance"
   ]
  },
  {
   "cell_type": "code",
   "execution_count": null,
   "metadata": {
    "collapsed": true
   },
   "outputs": [],
   "source": [
    "# TODO: get the image data and store it in a variable named image_\n",
    "\n",
    "# TODO: compute and show a histogram of the slice with 256 bins\n",
    "\n",
    "# TODO: Obtain mean, median and variance image intensity\n",
    "# and store them in a variable called \"features_stats. Print them\n"
   ]
  }
 ],
 "metadata": {
  "kernelspec": {
   "display_name": "Python 3",
   "language": "python",
   "name": "python3"
  },
  "language_info": {
   "codemirror_mode": {
    "name": "ipython",
    "version": 3
   },
   "file_extension": ".py",
   "mimetype": "text/x-python",
   "name": "python",
   "nbconvert_exporter": "python",
   "pygments_lexer": "ipython3",
   "version": "3.6.3"
  },
  "widgets": {
   "state": {},
   "version": "1.1.2"
  }
 },
 "nbformat": 4,
 "nbformat_minor": 2
}
