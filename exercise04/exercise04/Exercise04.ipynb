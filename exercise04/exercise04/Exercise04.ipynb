{
 "cells": [
  {
   "cell_type": "markdown",
   "metadata": {},
   "source": [
    "<h1>Machine Learning for Medical Imaging - Exercise Random Forests</h1>"
   ]
  },
  {
   "cell_type": "code",
   "execution_count": 12,
   "metadata": {},
   "outputs": [],
   "source": [
    "import numpy as np\n",
    "from sklearn.tree import DecisionTreeClassifier\n",
    "import graphviz \n",
    "from sklearn import tree\n",
    "import h5py"
   ]
  },
  {
   "cell_type": "markdown",
   "metadata": {},
   "source": [
    "<h3>Exercise 1 - Objective Functions</h3>\n",
    "<p>You are provided with a two-class dataset in hdf5 format. In this exercise you should implement the evaluation step using either information gain or gini impurity, which is used to decide the best split in a node of a decision tree. You are given part of the code and should fill in the gaps, where specified. All necessary libraries are already given in the import statements, no additional libraries are needed for this exercise.</p>\n",
    "<p><b>Group A and B use information gain as split criterion.</b></p>\n",
    "<p><b>Group C and D use the gini impurity as split criterion.</b></p>"
   ]
  },
  {
   "cell_type": "markdown",
   "metadata": {},
   "source": [
    "<h4>Information Gain</h4>\n",
    "<p><p>The information gain is given by the following function: </p>\n",
    "$$I_{gain} = H(S) - \\frac{\\lvert S_L \\rvert}{\\lvert S \\rvert} H(L) - \\frac{\\lvert S_R \\rvert}{\\lvert S \\rvert}H(R),$$\n",
    "<p>where S is the set of samples reaching a particular split node. S<sub>L</sub> and S<sub>R</sub> are the subsets of samples that are assigned to the left and right child nodes respectively.</p>\n",
    "<p>H(S) is the entropy, evaluated as:</p>\n",
    "$$H(S) = -\\sum_{\\forall c} p(c) log(p(c)),$$\n",
    "<p>where p(c) is the probability of choosing a sample of class c in the set S.</p>\n",
    "<p> <b>Group A:</b> Use the SpiralData-2 dataset for this exercise. </p>\n",
    "<p> <b>Group B:</b> Use the TwistData-2 dataset for this exercise. </p></p>\n",
    "<h4>Gini Impurity</h4>\n",
    "<p>The gini impurity for a set Y is given by the following function: </p>\n",
    "$$G(S) = 1 - \\sum_{\\forall c} p_c^2,$$\n",
    "<p>where c are the available classes and p<sub>c</sub> the probability of choosing a sample of class c, given the set Y.</p>\n",
    "<p>The gini index for a split node for a particular attribute is then given by:</p>\n",
    "$$I_{gini} = \\sum_{n \\in l,r}\\frac{\\lvert S_n \\rvert}{\\lvert S \\rvert} G(S_n),$$\n",
    "<p>where S<sub>n</sub> are the sets of samples forwarded to the left and right split nodes and S is the set of samples reaching the split node.</p>\n",
    "<p> <b>Group C:</b> Use the SpiralData-2 dataset for this exercise. </p>\n",
    "<p> <b>Group D:</b> Use the TwistData-2 dataset for this exercise. </p>"
   ]
  },
  {
   "cell_type": "code",
   "execution_count": 13,
   "metadata": {},
   "outputs": [],
   "source": [
    "h5f = h5py.File('./data/SpiralData-2.hdf5','r')\n",
    "#h5f = h5py.File('TwistData-2.hdf5','r')\n",
    "X = h5f['data'][:]\n",
    "Y = h5f['labels'][:]\n"
   ]
  },
  {
   "cell_type": "code",
   "execution_count": 14,
   "metadata": {},
   "outputs": [],
   "source": [
    "# This method is be used to split the data into two sets. It is given a feature index, the corresponding value\n",
    "# at this index, which will be used to split the data, and the data with labels.\n",
    "# Each data point is then tested at the given feature and associated to one group according to if its feature value\n",
    "# is smaller or larger than the test value.\n",
    "def form_groups(index, value, x, y):\n",
    "    left, right = list(), list()\n",
    "    for i in range(0,x.shape[0]):\n",
    "        if x[i][index] <= value:\n",
    "            left.append(y[i])\n",
    "        else:\n",
    "            right.append(y[i])\n",
    "    return left, right\n",
    "\n",
    "# This function computes the entropy/impurity of a given set. Its input is a set of labels.\n",
    "def evaluation_measure(y):\n",
    "    # check if the set y is not empty, otherwise return an appropriate value\n",
    "    if not y:\n",
    "        return -1\n",
    "    # count how often each label appears in the set y\n",
    "    unique, counts = np.unique(y, return_counts=True)\n",
    "    # divide by number of samples to get the probability of each class\n",
    "    probs = counts/float(len(y))\n",
    "    # compute the split criterion according to your group\n",
    "    squared = probs*probs\n",
    "    criterion = 1.0 - sum(squared)\n",
    "    return criterion"
   ]
  },
  {
   "cell_type": "code",
   "execution_count": 15,
   "metadata": {},
   "outputs": [
    {
     "name": "stdout",
     "output_type": "stream",
     "text": [
      "0.4117647058823529\n",
      "1\n",
      "-0.45008189\n"
     ]
    }
   ],
   "source": [
    "classes = 2\n",
    "best_gain = 1\n",
    "best_index = 0\n",
    "value = 0.0\n",
    "# go through each data point and every label to find the best split\n",
    "for index in range(0, X.shape[1]):\n",
    "    for row in range(0, X.shape[0]):\n",
    "        # use the form_groups function to divide the data according to the current feature value\n",
    "        left, right = form_groups(index, X[row][index], X, Y)\n",
    "        # compute the split criterion according to the current split\n",
    "        eval_left  = float(evaluation_measure(left))  * (float(len(left))/float(Y.shape[0]))\n",
    "        eval_right = float(evaluation_measure(right)) * (float(len(right))/float(Y.shape[0]))\n",
    "        gain = eval_left + eval_right\n",
    "        # if you have found a better split, save the feature value, index, information gain, and the two groups\n",
    "        if gain <= best_gain:\n",
    "            best_gain = gain\n",
    "            best_index = index\n",
    "            value = X[row][index]\n",
    "print(best_gain)\n",
    "print(best_index)\n",
    "print(value)"
   ]
  },
  {
   "cell_type": "markdown",
   "metadata": {},
   "source": [
    "<p>Now given the computed best split, compare your results (split value, feature index, resulting accuracy) with the implementation of a decision tree classifier in scikit-learn. Set the parameters to train the forest accordingly, the maximum depth, evaluation criteria and number of features and samples to use.\n",
    "</p>"
   ]
  },
  {
   "cell_type": "code",
   "execution_count": 16,
   "metadata": {},
   "outputs": [
    {
     "name": "stdout",
     "output_type": "stream",
     "text": [
      "[15] [35 50]\n",
      "0.65\n"
     ]
    },
    {
     "data": {
      "image/svg+xml": [
       "<?xml version=\"1.0\" encoding=\"UTF-8\" standalone=\"no\"?>\n",
       "<!DOCTYPE svg PUBLIC \"-//W3C//DTD SVG 1.1//EN\"\n",
       " \"http://www.w3.org/Graphics/SVG/1.1/DTD/svg11.dtd\">\n",
       "<!-- Generated by graphviz version 2.38.0 (20140413.2041)\n",
       " -->\n",
       "<!-- Title: Tree Pages: 1 -->\n",
       "<svg width=\"230pt\" height=\"165pt\"\n",
       " viewBox=\"0.00 0.00 229.50 165.00\" xmlns=\"http://www.w3.org/2000/svg\" xmlns:xlink=\"http://www.w3.org/1999/xlink\">\n",
       "<g id=\"graph0\" class=\"graph\" transform=\"scale(1 1) rotate(0) translate(4 161)\">\n",
       "<title>Tree</title>\n",
       "<polygon fill=\"white\" stroke=\"none\" points=\"-4,4 -4,-161 225.5,-161 225.5,4 -4,4\"/>\n",
       "<!-- 0 -->\n",
       "<g id=\"node1\" class=\"node\"><title>0</title>\n",
       "<polygon fill=\"none\" stroke=\"black\" points=\"161.5,-157 56.5,-157 56.5,-89 161.5,-89 161.5,-157\"/>\n",
       "<text text-anchor=\"middle\" x=\"109\" y=\"-141.8\" font-family=\"Times,serif\" font-size=\"14.00\">X[1] &lt;= &#45;0.43</text>\n",
       "<text text-anchor=\"middle\" x=\"109\" y=\"-126.8\" font-family=\"Times,serif\" font-size=\"14.00\">gini = 0.5</text>\n",
       "<text text-anchor=\"middle\" x=\"109\" y=\"-111.8\" font-family=\"Times,serif\" font-size=\"14.00\">samples = 100</text>\n",
       "<text text-anchor=\"middle\" x=\"109\" y=\"-96.8\" font-family=\"Times,serif\" font-size=\"14.00\">value = [50, 50]</text>\n",
       "</g>\n",
       "<!-- 1 -->\n",
       "<g id=\"node2\" class=\"node\"><title>1</title>\n",
       "<polygon fill=\"none\" stroke=\"black\" points=\"98,-53 7.10543e-15,-53 7.10543e-15,-0 98,-0 98,-53\"/>\n",
       "<text text-anchor=\"middle\" x=\"49\" y=\"-37.8\" font-family=\"Times,serif\" font-size=\"14.00\">gini = 0.0</text>\n",
       "<text text-anchor=\"middle\" x=\"49\" y=\"-22.8\" font-family=\"Times,serif\" font-size=\"14.00\">samples = 15</text>\n",
       "<text text-anchor=\"middle\" x=\"49\" y=\"-7.8\" font-family=\"Times,serif\" font-size=\"14.00\">value = [15, 0]</text>\n",
       "</g>\n",
       "<!-- 0&#45;&gt;1 -->\n",
       "<g id=\"edge1\" class=\"edge\"><title>0&#45;&gt;1</title>\n",
       "<path fill=\"none\" stroke=\"black\" d=\"M88.0149,-88.9485C82.439,-80.1664 76.405,-70.6629 70.7873,-61.815\"/>\n",
       "<polygon fill=\"black\" stroke=\"black\" points=\"73.6556,-59.8028 65.3408,-53.2367 67.7461,-63.5549 73.6556,-59.8028\"/>\n",
       "<text text-anchor=\"middle\" x=\"59.8924\" y=\"-73.9358\" font-family=\"Times,serif\" font-size=\"14.00\">True</text>\n",
       "</g>\n",
       "<!-- 2 -->\n",
       "<g id=\"node3\" class=\"node\"><title>2</title>\n",
       "<polygon fill=\"none\" stroke=\"black\" points=\"221.5,-53 116.5,-53 116.5,-0 221.5,-0 221.5,-53\"/>\n",
       "<text text-anchor=\"middle\" x=\"169\" y=\"-37.8\" font-family=\"Times,serif\" font-size=\"14.00\">gini = 0.484</text>\n",
       "<text text-anchor=\"middle\" x=\"169\" y=\"-22.8\" font-family=\"Times,serif\" font-size=\"14.00\">samples = 85</text>\n",
       "<text text-anchor=\"middle\" x=\"169\" y=\"-7.8\" font-family=\"Times,serif\" font-size=\"14.00\">value = [35, 50]</text>\n",
       "</g>\n",
       "<!-- 0&#45;&gt;2 -->\n",
       "<g id=\"edge2\" class=\"edge\"><title>0&#45;&gt;2</title>\n",
       "<path fill=\"none\" stroke=\"black\" d=\"M129.985,-88.9485C135.561,-80.1664 141.595,-70.6629 147.213,-61.815\"/>\n",
       "<polygon fill=\"black\" stroke=\"black\" points=\"150.254,-63.5549 152.659,-53.2367 144.344,-59.8028 150.254,-63.5549\"/>\n",
       "<text text-anchor=\"middle\" x=\"158.108\" y=\"-73.9358\" font-family=\"Times,serif\" font-size=\"14.00\">False</text>\n",
       "</g>\n",
       "</g>\n",
       "</svg>\n"
      ],
      "text/plain": [
       "<graphviz.files.Source at 0x7f3ee9b3af98>"
      ]
     },
     "execution_count": 16,
     "metadata": {},
     "output_type": "execute_result"
    }
   ],
   "source": [
    "## compute the accuracy of your found split\n",
    "# best_index = 1\n",
    "# value =  -0.43\n",
    "left, right = form_groups(best_index, value, X, Y)\n",
    "unique, counts_left  = np.unique(left, return_counts=True)\n",
    "unique, counts_right = np.unique(right, return_counts=True)\n",
    "print (counts_left, counts_right)\n",
    "accuracy = float(max(counts_left) + max(counts_right))/float(len(Y))\n",
    "print (accuracy)\n",
    "gini_idx = best_gain\n",
    "# Test your decision tree on the same data and compute its accuracy using the 'score' function\n",
    "\n",
    "# print(score)\n",
    "\n",
    "# plot the resulting tree, clf, using graphviz and compare to your results.\n",
    "clf = DecisionTreeClassifier(max_depth=1, max_features=2)\n",
    "clf.fit(X,Y)\n",
    "dot_data = tree.export_graphviz(clf, out_file=None)\n",
    "graph = graphviz.Source(dot_data)  \n",
    "graph"
   ]
  },
  {
   "cell_type": "markdown",
   "metadata": {},
   "source": [
    "<h3>Exercise 1 - Random Forests</h3>\n",
    "<p>In this part of the exercise, different parameters of random forests like the number of trees or the depth should be explored.\n",
    "<p> For this, you are provided with a three-class dataset: </p>\n",
    "<table>\n",
    "    <tr>\n",
    "        <td style=\"text-align:center\"> Twist Dataset</td><td style=\"text-align:center\">Spiral Dataset</td></tr><tr>\n",
    "        <td><img src=\"data/twist.png\"></td><td> <img src=\"data/spiral.png\"></td>\n",
    "    </tr>\n",
    "</table>\n",
    "<p>Spilt the data randomly into two folds to create a training and a test set.</p>"
   ]
  },
  {
   "cell_type": "code",
   "execution_count": 17,
   "metadata": {},
   "outputs": [
    {
     "name": "stdout",
     "output_type": "stream",
     "text": [
      "Train size:  (90,)\n",
      "Test size:  (60,)\n"
     ]
    }
   ],
   "source": [
    "from sklearn.ensemble import RandomForestClassifier\n",
    "import matplotlib.pyplot as plt\n",
    "from matplotlib.colors import ListedColormap\n",
    "from sklearn.model_selection import train_test_split\n",
    "\n",
    "h5f = h5py.File('./data/SpiralData-3.hdf5','r')\n",
    "#h5f = h5py.File('TwistData-3.hdf5','r')\n",
    "\n",
    "X = h5f['data'][:]\n",
    "Y = h5f['labels'][:]\n",
    "classes = 3\n",
    "# split the data into two folds\n",
    "perm = np.random.choice(X.shape[0], X.shape[0])\n",
    "X = X[perm]\n",
    "Y = Y[perm]\n",
    "\n",
    "train_percentage = 0.6\n",
    "train_size = int(round(X.shape[0]*train_percentage))\n",
    "X_train = X[0:train_size]\n",
    "y_train = Y[0:train_size]\n",
    "\n",
    "X_test = X[train_size:]\n",
    "y_test  = Y[train_size:]\n",
    "\n",
    "print (\"Train size: \", y_train.shape)\n",
    "print (\"Test size: \", y_test.shape)\n"
   ]
  },
  {
   "cell_type": "markdown",
   "metadata": {},
   "source": [
    "<p> a. Train a random forest classifier on your training set using the split function assigned to your group.</p>"
   ]
  },
  {
   "cell_type": "code",
   "execution_count": 18,
   "metadata": {},
   "outputs": [
    {
     "data": {
      "text/plain": [
       "0.93333333333333335"
      ]
     },
     "execution_count": 18,
     "metadata": {},
     "output_type": "execute_result"
    }
   ],
   "source": [
    "clf = RandomForestClassifier(criterion='gini', n_estimators=50, max_depth=10)\n",
    "clf.fit(X_train, y_train)\n",
    "clf.score(X_test, y_test)"
   ]
  },
  {
   "cell_type": "markdown",
   "metadata": {},
   "source": [
    "<h3>Evaluation</h3>\n",
    "<p> b. Train RF classifiers varying the number of trees (1,25,...,50) and observe the accuracy of your classifier on the test set, as well as the decision boundaries plotting curves like shown in:\n",
    "http://scikit-learn.org/stable/auto_examples/classification/plot_classifier_comparison.html\n",
    "You will have to adapt the plot according to the number of classes.</p>\n",
    "<p>c. For fixed number of trees (say, 10) vary the depth of the classifiers from 2,3,..8.\n",
    "Plot similar curves as 1(b).</p>"
   ]
  },
  {
   "cell_type": "code",
   "execution_count": 19,
   "metadata": {
    "scrolled": true
   },
   "outputs": [
    {
     "name": "stderr",
     "output_type": "stream",
     "text": [
      "/home/oushesh/miniconda3/envs/RoboND/lib/python3.5/site-packages/matplotlib/cbook/deprecation.py:106: MatplotlibDeprecationWarning: Adding an axes using the same arguments as a previous axes currently reuses the earlier instance.  In a future version, a new instance will always be created and returned.  Meanwhile, this warning can be suppressed, and the future behavior ensured, by passing a unique label to each axes instance.\n",
      "  warnings.warn(message, mplDeprecation, stacklevel=1)\n",
      "/home/oushesh/miniconda3/envs/RoboND/lib/python3.5/site-packages/matplotlib/cbook/deprecation.py:106: MatplotlibDeprecationWarning: Adding an axes using the same arguments as a previous axes currently reuses the earlier instance.  In a future version, a new instance will always be created and returned.  Meanwhile, this warning can be suppressed, and the future behavior ensured, by passing a unique label to each axes instance.\n",
      "  warnings.warn(message, mplDeprecation, stacklevel=1)\n",
      "/home/oushesh/miniconda3/envs/RoboND/lib/python3.5/site-packages/matplotlib/cbook/deprecation.py:106: MatplotlibDeprecationWarning: Adding an axes using the same arguments as a previous axes currently reuses the earlier instance.  In a future version, a new instance will always be created and returned.  Meanwhile, this warning can be suppressed, and the future behavior ensured, by passing a unique label to each axes instance.\n",
      "  warnings.warn(message, mplDeprecation, stacklevel=1)\n",
      "/home/oushesh/miniconda3/envs/RoboND/lib/python3.5/site-packages/matplotlib/cbook/deprecation.py:106: MatplotlibDeprecationWarning: Adding an axes using the same arguments as a previous axes currently reuses the earlier instance.  In a future version, a new instance will always be created and returned.  Meanwhile, this warning can be suppressed, and the future behavior ensured, by passing a unique label to each axes instance.\n",
      "  warnings.warn(message, mplDeprecation, stacklevel=1)\n",
      "/home/oushesh/miniconda3/envs/RoboND/lib/python3.5/site-packages/matplotlib/cbook/deprecation.py:106: MatplotlibDeprecationWarning: Adding an axes using the same arguments as a previous axes currently reuses the earlier instance.  In a future version, a new instance will always be created and returned.  Meanwhile, this warning can be suppressed, and the future behavior ensured, by passing a unique label to each axes instance.\n",
      "  warnings.warn(message, mplDeprecation, stacklevel=1)\n",
      "/home/oushesh/miniconda3/envs/RoboND/lib/python3.5/site-packages/matplotlib/cbook/deprecation.py:106: MatplotlibDeprecationWarning: Adding an axes using the same arguments as a previous axes currently reuses the earlier instance.  In a future version, a new instance will always be created and returned.  Meanwhile, this warning can be suppressed, and the future behavior ensured, by passing a unique label to each axes instance.\n",
      "  warnings.warn(message, mplDeprecation, stacklevel=1)\n",
      "/home/oushesh/miniconda3/envs/RoboND/lib/python3.5/site-packages/matplotlib/cbook/deprecation.py:106: MatplotlibDeprecationWarning: Adding an axes using the same arguments as a previous axes currently reuses the earlier instance.  In a future version, a new instance will always be created and returned.  Meanwhile, this warning can be suppressed, and the future behavior ensured, by passing a unique label to each axes instance.\n",
      "  warnings.warn(message, mplDeprecation, stacklevel=1)\n",
      "/home/oushesh/miniconda3/envs/RoboND/lib/python3.5/site-packages/matplotlib/cbook/deprecation.py:106: MatplotlibDeprecationWarning: Adding an axes using the same arguments as a previous axes currently reuses the earlier instance.  In a future version, a new instance will always be created and returned.  Meanwhile, this warning can be suppressed, and the future behavior ensured, by passing a unique label to each axes instance.\n",
      "  warnings.warn(message, mplDeprecation, stacklevel=1)\n",
      "/home/oushesh/miniconda3/envs/RoboND/lib/python3.5/site-packages/matplotlib/cbook/deprecation.py:106: MatplotlibDeprecationWarning: Adding an axes using the same arguments as a previous axes currently reuses the earlier instance.  In a future version, a new instance will always be created and returned.  Meanwhile, this warning can be suppressed, and the future behavior ensured, by passing a unique label to each axes instance.\n",
      "  warnings.warn(message, mplDeprecation, stacklevel=1)\n",
      "/home/oushesh/miniconda3/envs/RoboND/lib/python3.5/site-packages/matplotlib/cbook/deprecation.py:106: MatplotlibDeprecationWarning: Adding an axes using the same arguments as a previous axes currently reuses the earlier instance.  In a future version, a new instance will always be created and returned.  Meanwhile, this warning can be suppressed, and the future behavior ensured, by passing a unique label to each axes instance.\n",
      "  warnings.warn(message, mplDeprecation, stacklevel=1)\n",
      "/home/oushesh/miniconda3/envs/RoboND/lib/python3.5/site-packages/matplotlib/cbook/deprecation.py:106: MatplotlibDeprecationWarning: Adding an axes using the same arguments as a previous axes currently reuses the earlier instance.  In a future version, a new instance will always be created and returned.  Meanwhile, this warning can be suppressed, and the future behavior ensured, by passing a unique label to each axes instance.\n",
      "  warnings.warn(message, mplDeprecation, stacklevel=1)\n",
      "/home/oushesh/miniconda3/envs/RoboND/lib/python3.5/site-packages/matplotlib/cbook/deprecation.py:106: MatplotlibDeprecationWarning: Adding an axes using the same arguments as a previous axes currently reuses the earlier instance.  In a future version, a new instance will always be created and returned.  Meanwhile, this warning can be suppressed, and the future behavior ensured, by passing a unique label to each axes instance.\n",
      "  warnings.warn(message, mplDeprecation, stacklevel=1)\n"
     ]
    },
    {
     "data": {
      "image/png": "[encoded data removed]",
      "text/plain": [
       "<matplotlib.figure.Figure at 0x7f3ea20ff9b0>"
      ]
     },
     "metadata": {},
     "output_type": "display_data"
    }
   ],
   "source": [
    "from sklearn.preprocessing import StandardScaler\n",
    "nb_trees = [1, 10, 25, 50]\n",
    "depth_trees = [2, 3, 8]\n",
    "\n",
    "i = 0\n",
    "for idx_tree, nb_tree in enumerate(nb_trees):\n",
    "    for idx_depth, depth_tree in enumerate(depth_trees):\n",
    "        i += 1\n",
    "        clf = RandomForestClassifier(criterion='gini', n_estimators=nb_tree, max_depth=depth_tree)\n",
    "        clf.fit(X_train, y_train)\n",
    "        clf.score(X_test, y_test)\n",
    "        ax = plt.subplot(len(nb_trees), len(depth_trees), i)\n",
    "\n",
    "        # preprocess dataset, split into training and test part\n",
    "        X = StandardScaler().fit_transform(X)\n",
    "        x_min, x_max = X[:, 0].min() - .5, X[:, 0].max() + .5\n",
    "        y_min, y_max = X[:, 1].min() - .5, X[:, 1].max() + .5\n",
    "        xx, yy = np.meshgrid(np.arange(x_min, x_max, 0.2),\n",
    "                             np.arange(y_min, y_max, 0.2))\n",
    "\n",
    "        # just plot the dataset first\n",
    "        cm = plt.cm.RdBu\n",
    "        cm_bright = ListedColormap(['#FF0000', '#0000FF'])\n",
    "        ax = plt.subplot(len(nb_trees),len(depth_trees), i)\n",
    "\n",
    "        # Plot the training points\n",
    "        ax.scatter(X_train[:, 0], X_train[:, 1], c=y_train, cmap=cm_bright,\n",
    "                   edgecolors='k')\n",
    "        # and testing points\n",
    "        ax.scatter(X_test[:, 0], X_test[:, 1], c=y_test, cmap=cm_bright, alpha=0.6,\n",
    "                   edgecolors='k')\n",
    "        ax.set_xlim(xx.min(), xx.max())\n",
    "        ax.set_ylim(yy.min(), yy.max())\n",
    "        ax.set_xticks(())\n",
    "        ax.set_yticks(())\n",
    "\n",
    "\n",
    "        # Plot the decision boundary. For that, we will assign a color to each\n",
    "        # point in the mesh [x_min, x_max]x[y_min, y_max].\n",
    "        Z = clf.predict_proba(np.c_[xx.ravel(), yy.ravel()])[:, 1]\n",
    "\n",
    "        # Put the result into a color plot\n",
    "        Z = Z.reshape(xx.shape)\n",
    "        ax.contourf(xx, yy, Z, cmap=cm, alpha=.8)\n",
    "\n",
    "        # Plot also the training points\n",
    "        ax.scatter(X_train[:, 0], X_train[:, 1], c=y_train, cmap=cm_bright,\n",
    "                   edgecolors='k')\n",
    "        # and testing points\n",
    "        ax.scatter(X_test[:, 0], X_test[:, 1], c=y_test, cmap=cm_bright,\n",
    "                   edgecolors='k', alpha=0.6)\n",
    "\n",
    "        ax.set_xlim(xx.min(), xx.max())\n",
    "        ax.set_ylim(yy.min(), yy.max())\n",
    "        ax.set_xticks(())\n",
    "        ax.set_yticks(())\n",
    "\n",
    "        score = clf.score(X_test, y_test)\n",
    "        if idx_tree == 0:\n",
    "            ax.set_title(depth_tree)\n",
    "        if idx_depth == 0:\n",
    "            ax.set_ylabel(nb_tree)\n",
    "        ax.text(xx.max() - .3, yy.min() + .3, ('%.2f' % score).lstrip('0'),\n",
    "                size=15, horizontalalignment='right')\n",
    "\n",
    "plt.tight_layout()\n",
    "plt.show()\n"
   ]
  },
  {
   "cell_type": "markdown",
   "metadata": {},
   "source": [
    "<b> Comment on the classifier behavior for the above cases.</b>"
   ]
  },
  {
   "cell_type": "markdown",
   "metadata": {},
   "source": [
    "<h3>Exercise 2</h3>\n",
    "<p>You are given the medical dataset already known from Exercise 3 on Support Vector Machines. The dataset was one of the result from a Mexican project for the diagnosis of Chagas disease (CONACYT/SALUD-2009-C01-113848, contact: Dr. Hugo Ruiz rpina@correo.uady.mx), containing negative and positive examples of a blood parasite.</p>  \n",
    "<img src=\"data/ex03.dataset.jpg\">    \n",
    "<p>Spilt the data randomly into two folds to create a training and a test set. Now, extract features of the given images. </p>\n",
    "<p><b> Group A and C: </b> Extrac HoG features: You can use skimage to extract the features. (http://scikit-image.org/docs/dev/auto_examples/features_detection/plot_hog.html)</p>\n",
    "<p><b> Group B and D: </b> Extrac features using PCA: You can use sklearn to extract the features. (http://scikit-learn.org/stable/modules/generated/sklearn.decomposition.PCA.html)</p>\n",
    "\n",
    "<p>Learn a random forest classfiers, with the objective function assigned to your group in the first exercise (information gain or gini impurity), first on the vectorized images and then on your extracted features. Keep the parameters for training the forest fixed, for example maximum depth = 4 and number of trees = 10. Vary the number of features extracted and compare the resulting accuracy and out-of-bag error. (http://scikit-learn.org/stable/auto_examples/ensemble/plot_ensemble_oob.html)</p> "
   ]
  },
  {
   "cell_type": "code",
   "execution_count": 20,
   "metadata": {
    "scrolled": true
   },
   "outputs": [
    {
     "name": "stderr",
     "output_type": "stream",
     "text": [
      "/home/oushesh/miniconda3/envs/RoboND/lib/python3.5/site-packages/skimage/feature/_hog.py:119: skimage_deprecation: Default value of `block_norm`==`L1` is deprecated and will be changed to `L2-Hys` in v0.15\n",
      "  'be changed to `L2-Hys` in v0.15', skimage_deprecation)\n"
     ]
    },
    {
     "name": "stdout",
     "output_type": "stream",
     "text": [
      "[[ 0.00072633  0.0484597   0.04353873 ...,  0.00350245  0.00455078\n",
      "   0.00278445]\n",
      " [ 0.01019555  0.01415239  0.02523759 ...,  0.01101179  0.00031287\n",
      "   0.00926667]\n",
      " [ 0.00520761  0.01504804  0.01993153 ...,  0.01074197  0.00967258\n",
      "   0.01084913]\n",
      " ..., \n",
      " [ 0.01324193  0.01397832  0.01803853 ...,  0.00924083  0.01592367\n",
      "   0.00270488]\n",
      " [ 0.0107715   0.00714468  0.01888152 ...,  0.01007308  0.00601088\n",
      "   0.01020064]\n",
      " [ 0.01254577  0.00666649  0.01491895 ...,  0.0146102   0.00200066\n",
      "   0.00945333]]\n"
     ]
    }
   ],
   "source": [
    "from skimage.feature import hog\n",
    "from skimage import color\n",
    "from sklearn.model_selection import cross_val_score\n",
    "\n",
    "## loading the data\n",
    "h5f = h5py.File('./data/blood_parasite.hdf5','r')\n",
    "X = h5f['data'][:]\n",
    "Y = h5f['labels'][:]\n",
    "\n",
    "X = X.reshape((7438, 24,24))\n",
    "\n",
    "num_features = 8\n",
    "features = np.empty([X.shape[0], num_features*9])\n",
    "## extract features and save them in the given array\n",
    "for idx, image in enumerate(X):\n",
    "    hog_image = hog(image, orientations=num_features)\n",
    "    features[idx] = hog_image\n",
    "    \n",
    "print(features)"
   ]
  },
  {
   "cell_type": "code",
   "execution_count": 21,
   "metadata": {},
   "outputs": [
    {
     "name": "stderr",
     "output_type": "stream",
     "text": [
      "/home/oushesh/miniconda3/envs/RoboND/lib/python3.5/site-packages/skimage/feature/_hog.py:119: skimage_deprecation: Default value of `block_norm`==`L1` is deprecated and will be changed to `L2-Hys` in v0.15\n",
      "  'be changed to `L2-Hys` in v0.15', skimage_deprecation)\n"
     ]
    },
    {
     "name": "stdout",
     "output_type": "stream",
     "text": [
      "0.0332773109244 2\n"
     ]
    },
    {
     "name": "stderr",
     "output_type": "stream",
     "text": [
      "/home/oushesh/miniconda3/envs/RoboND/lib/python3.5/site-packages/skimage/feature/_hog.py:119: skimage_deprecation: Default value of `block_norm`==`L1` is deprecated and will be changed to `L2-Hys` in v0.15\n",
      "  'be changed to `L2-Hys` in v0.15', skimage_deprecation)\n"
     ]
    },
    {
     "name": "stdout",
     "output_type": "stream",
     "text": [
      "0.0312605042017 3\n"
     ]
    },
    {
     "name": "stderr",
     "output_type": "stream",
     "text": [
      "/home/oushesh/miniconda3/envs/RoboND/lib/python3.5/site-packages/skimage/feature/_hog.py:119: skimage_deprecation: Default value of `block_norm`==`L1` is deprecated and will be changed to `L2-Hys` in v0.15\n",
      "  'be changed to `L2-Hys` in v0.15', skimage_deprecation)\n"
     ]
    },
    {
     "name": "stdout",
     "output_type": "stream",
     "text": [
      "0.0309243697479 5\n"
     ]
    },
    {
     "name": "stderr",
     "output_type": "stream",
     "text": [
      "/home/oushesh/miniconda3/envs/RoboND/lib/python3.5/site-packages/skimage/feature/_hog.py:119: skimage_deprecation: Default value of `block_norm`==`L1` is deprecated and will be changed to `L2-Hys` in v0.15\n",
      "  'be changed to `L2-Hys` in v0.15', skimage_deprecation)\n"
     ]
    },
    {
     "name": "stdout",
     "output_type": "stream",
     "text": [
      "0.0294117647059 10\n"
     ]
    }
   ],
   "source": [
    "## split the dataset into a training and test set\n",
    "def get_sets_features(X, Y, nb_features):\n",
    "    features = np.empty([X.shape[0], num_features*9])\n",
    "    ## extract features and save them in the given array\n",
    "    for idx, image in enumerate(X):\n",
    "        hog_image = hog(image, orientations=num_features)\n",
    "        features[idx] = hog_image\n",
    "        \n",
    "    perm = np.random.choice(X.shape[0], X.shape[0])\n",
    "    features = features[perm]\n",
    "    Y = Y[perm]\n",
    "\n",
    "    train_percentage = 0.8\n",
    "    train_size = int(round(X.shape[0]*train_percentage))\n",
    "    X_train = features[0:train_size,:]\n",
    "    y_train = Y[0:train_size, 0]\n",
    "\n",
    "    X_test = features[train_size:,:]\n",
    "    y_test = Y[train_size:, 0]\n",
    "    return X_train, y_train, X_test, y_test\n",
    "\n",
    "\n",
    "## train the random forest classifier using the split criterion assigned to your group\n",
    "nb_features_list = [2,3,5,10]\n",
    "for nb_features in nb_features_list:\n",
    "    clf = RandomForestClassifier(criterion='gini', n_estimators=50, max_depth=10, oob_score=True)\n",
    "    X_train, y_train, X_test, y_test = get_sets_features(X,Y,nb_features)\n",
    "    clf.fit(X_train, y_train)\n",
    "    \n",
    "    # Record the OOB error for each `n_estimators=i` setting.\n",
    "    oob_error = 1 - clf.oob_score_\n",
    "    print (oob_error, nb_features)\n",
    "\n",
    "## display the oob error\n",
    "# oob_error = #TODO\n",
    "# print(oob_error)"
   ]
  },
  {
   "cell_type": "markdown",
   "metadata": {},
   "source": [
    "<p>Perform k = 5 folded cross-validation, i.e., split data into 5 folds and use 4 folds for training and 1 fold for testing.</p>"
   ]
  },
  {
   "cell_type": "code",
   "execution_count": 22,
   "metadata": {},
   "outputs": [
    {
     "name": "stdout",
     "output_type": "stream",
     "text": [
      "0.0294117647059\n"
     ]
    }
   ],
   "source": [
    "scores = oob_error\n",
    "print(scores)"
   ]
  },
  {
   "cell_type": "code",
   "execution_count": null,
   "metadata": {},
   "outputs": [],
   "source": []
  }
 ],
 "metadata": {
  "kernelspec": {
   "display_name": "Python [default]",
   "language": "python",
   "name": "python3"
  },
  "language_info": {
   "codemirror_mode": {
    "name": "ipython",
    "version": 3
   },
   "file_extension": ".py",
   "mimetype": "text/x-python",
   "name": "python",
   "nbconvert_exporter": "python",
   "pygments_lexer": "ipython3",
   "version": "3.5.2"
  },
  "widgets": {
   "state": {},
   "version": "1.1.2"
  }
 },
 "nbformat": 4,
 "nbformat_minor": 2
}
